{
 "cells": [
  {
   "cell_type": "code",
   "execution_count": 65,
   "id": "indie-seller",
   "metadata": {},
   "outputs": [],
   "source": [
    "import os\n",
    "import pickle\n",
    "import pandas as pd\n",
    "from indra.sources import tas\n",
    "from collections import defaultdict\n",
    "import indra.tools.assemble_corpus as ac\n",
    "from indra.ontology.bio import bio_ontology\n",
    "from indra.assemblers.html import HtmlAssembler"
   ]
  },
  {
   "cell_type": "code",
   "execution_count": 63,
   "id": "under-shakespeare",
   "metadata": {},
   "outputs": [],
   "source": [
    "def html_assembler(indra_stmts, fname):\n",
    "    \"\"\"Assemble INDRA statements into a HTML report\"\"\"\n",
    "    html_assembler = HtmlAssembler(indra_stmts,\n",
    "                                   db_rest_url='https://db.indra.bio')\n",
    "    assembled_html_report = html_assembler.make_model(no_redundancy=True)\n",
    "    html_assembler.save_model(fname)\n",
    "    return assembled_html_report"
   ]
  },
  {
   "cell_type": "code",
   "execution_count": 83,
   "id": "functional-washer",
   "metadata": {},
   "outputs": [],
   "source": [
    "HERE = os.path.join(os.getcwd())\n",
    "top_hits_df = pd.read_csv(os.path.join(HERE, 'input', 'okl_top_hits.csv'))\n",
    "\n",
    "if not os.path.isfile(os.path.join(HERE, 'input', 'tas.pkl')):\n",
    "    tp = tas.process_from_web()\n",
    "    with open(os.path.join(HERE, 'input', 'tas.pkl'), 'wb') as fh:\n",
    "        pickle.dump(tp, fh)\n",
    "else:\n",
    "    with open(os.path.join(HERE, 'input', 'tas.pkl'), 'rb') as fh:\n",
    "        tp = pickle.load(fh)"
   ]
  },
  {
   "cell_type": "code",
   "execution_count": 95,
   "id": "revised-basketball",
   "metadata": {
    "scrolled": false
   },
   "outputs": [
    {
     "name": "stderr",
     "output_type": "stream",
     "text": [
      "<ipython-input-95-73cabca4415b>:36: SettingWithCopyWarning: \n",
      "A value is trying to be set on a copy of a slice from a DataFrame\n",
      "\n",
      "See the caveats in the documentation: https://pandas.pydata.org/pandas-docs/stable/user_guide/indexing.html#returning-a-view-versus-a-copy\n",
      "  top_hits_df['tas_targets'][r] = \", \".join(compound_targets[cname])\n",
      "INFO: [2021-08-23 17:51:31] indra.tools.assemble_corpus - Filtering 358 statements to direct ones...\n",
      "INFO: [2021-08-23 17:51:31] indra.tools.assemble_corpus - 358 statements after filter...\n",
      "INFO: [2021-08-23 17:51:31] indra.tools.assemble_corpus - Combining duplicates on 358 statements...\n",
      "INFO: [2021-08-23 17:51:31] indra.tools.assemble_corpus - 358 unique statements\n"
     ]
    }
   ],
   "source": [
    "compound_names = [compounds.split()[0] for compounds in top_hits_df['Compound Name']]\n",
    "compound_targets = defaultdict(set)\n",
    "tas_stmts = []\n",
    "\n",
    "chembl_ids = {\n",
    "    'CHEMBL214253': 'PD-407824',\n",
    "    'CHEMBL254760': 'MGCD265',\n",
    "    'CHEMBL363648': 'TAK-715',\n",
    "    'CHEMBL373751': 'KIN001-135',\n",
    "    'CHEMBL603469': 'Lestaurtinib',\n",
    "    'CHEMBL377300': 'Brivanib',\n",
    "    'CHEMBL565612': 'Sotrastaurin',\n",
    "    'CHEMBL571948': 'Y39983',\n",
    "    'CHEMBL2028663': 'Dabrafenib',\n",
    "    'CHEMBL1078178': 'Momelotinib'   \n",
    "}\n",
    "\n",
    "# Get target statements\n",
    "for stmt in tp.statements:\n",
    "    subj = stmt.subj.name\n",
    "    obj = stmt.obj.name\n",
    "    if subj in compound_names:\n",
    "        compound_targets[(subj)].add(obj)\n",
    "        tas_stmts.append(stmt)\n",
    "    elif subj in chembl_ids:\n",
    "        compound_targets[(chembl_ids[subj])].add(obj)\n",
    "\n",
    "\n",
    "# Create a new column for tas targets\n",
    "top_hits_df['tas_targets'] = None\n",
    "\n",
    "# Update tas_targets with hits\n",
    "for r,c in top_hits_df.iterrows():\n",
    "    cname = c[3].split()[0]\n",
    "    if cname in compound_targets:\n",
    "        top_hits_df['tas_targets'][r] = \", \".join(compound_targets[cname])\n",
    "\n",
    "# Write the dataframe to a new csv\n",
    "top_hits_df.to_csv(os.path.join(HERE, 'output', 'tas_hits.csv'))\n",
    "\n",
    "indra_stmts = ac.run_preassembly(tas_stmts,\n",
    "                                 run_refinement=False)\n",
    "\n",
    "# Assemble the statements into HTML formatted report and save into a file\n",
    "indra_op_html_report = \\\n",
    "    html_assembler(\n",
    "        tas_stmts,\n",
    "        fname=os.path.join(HERE, 'output', 'tas_statements.html'))"
   ]
  }
 ],
 "metadata": {
  "kernelspec": {
   "display_name": "Python 3",
   "language": "python",
   "name": "python3"
  },
  "language_info": {
   "codemirror_mode": {
    "name": "ipython",
    "version": 3
   },
   "file_extension": ".py",
   "mimetype": "text/x-python",
   "name": "python",
   "nbconvert_exporter": "python",
   "pygments_lexer": "ipython3",
   "version": "3.8.5"
  }
 },
 "nbformat": 4,
 "nbformat_minor": 5
}
