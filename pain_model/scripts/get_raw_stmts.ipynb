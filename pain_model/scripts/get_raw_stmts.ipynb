{
 "cells": [
  {
   "cell_type": "code",
   "execution_count": 1,
   "metadata": {},
   "outputs": [],
   "source": [
    "from indra.statements.statements import stmts_from_json\n",
    "from indra.statements.statements import stmts_to_json\n",
    "from indra_db.client.principal import raw_statements\n",
    "from indra.tools import assemble_corpus as ac\n",
    "from collections import defaultdict\n",
    "#from indra_db.util import get_db\n",
    "from datetime import datetime\n",
    "import pickle as pk\n",
    "import pandas as pd\n",
    "import gilda\n",
    "import time\n",
    "#db = get_db('primary')"
   ]
  },
  {
   "cell_type": "code",
   "execution_count": null,
   "metadata": {},
   "outputs": [],
   "source": [
    "#with open('./id_list.txt', 'r') as fh:\n",
    "#    ids = [i.strip() for i in fh]"
   ]
  },
  {
   "cell_type": "code",
   "execution_count": 2,
   "metadata": {},
   "outputs": [],
   "source": [
    "'''\n",
    "tcid = ids\n",
    "stmts = raw_statements.get_raw_stmt_jsons(clauses=[db.TextContent.id.in_(tcid)], db=db)\n",
    "stmts_pkl = open('./raw_stmts_json.pkl', 'wb')\n",
    "pk.dump(stmts, stmts_pkl)\n",
    "stmts_json = list(stmts.values())\n",
    "stmts_list = stmts_from_json(stmts_json)\n",
    "outfh = open('./raw_stmts_list.pkl', 'wb')\n",
    "pk.dump(stmts_list, outfh)\n",
    "'''\n",
    "infh = open('./raw_stmts_list.pkl', 'rb')\n",
    "stmts_list = pk.load(infh)\n",
    "start_time = time.time()\n",
    "grounded_stmts = ac.map_grounding(stmts_list)\n",
    "end_time = time.time()\n",
    "round((end_time - start_time)/60, 2)\n",
    "'''\n",
    "INFO: [2021-10-06 11:27:28] indra.tools.assemble_corpus - Mapping grounding on 1333769 statements...\n",
    "INFO: [2021-10-06 11:35:01] indra.preassembler.grounding_mapper.mapper - 44784 statements filtered out\n",
    "7.56\n",
    "'''"
   ]
  },
  {
   "cell_type": "code",
   "execution_count": 15,
   "metadata": {},
   "outputs": [
    {
     "name": "stdout",
     "output_type": "stream",
     "text": [
      "quercetin() ('CHEBI', 'CHEBI:16243') Quercetin\n"
     ]
    }
   ],
   "source": [
    "print(grounded_stmts[0:10][3].agent_list()[0],\n",
    "      grounded_stmts[0:10][3].agent_list()[0].get_grounding(), \n",
    "      grounded_stmts[0:10][3].agent_list()[0].db_refs['TEXT']\n",
    "     )"
   ]
  },
  {
   "cell_type": "code",
   "execution_count": null,
   "metadata": {},
   "outputs": [],
   "source": [
    "\n",
    "groundings = []\n",
    "for stmt in grounded_stmts:\n",
    "    for ag in stmt.real_agent_list():\n",
    "        db_ns, db_id = ag.get_grounding()\n",
    "        if db_ns and db_id:\n",
    "            gr_ns, gr_id = db_ns, db_id\n",
    "        else:\n",
    "            for k, v in agent.db_refs.items():\n",
    "                if k not in {'TEXT', 'TEXT_NORM'}:\n",
    "                    gr_ns, gr_id = k, v\n",
    "                    break\n",
    "            else:\n",
    "                gr_ns, gr_id = '', ''\n",
    "        groundings.append((ag.db_refs['TEXT'], gr_ns, gr_id))\n",
    "\n",
    "from collections import Counter\n",
    "cnt = Counter(groundings)\n",
    "df = []\n",
    "for (txt, gr_ns, gr_id), count in cnt.most_common():\n",
    "    df.append(\n",
    "    {\n",
    "        'text': txt,\n",
    "        'db_ns': gr_ns,\n",
    "        'db_id': gr_id,\n",
    "        'count': cnt\n",
    "    })\n",
    "grounded_df = pd.DataFrame(df)\n",
    "grounded_df.to_csv('./agent_groundings.csv', sep=',')"
   ]
  },
  {
   "cell_type": "code",
   "execution_count": 47,
   "metadata": {},
   "outputs": [
    {
     "data": {
      "text/plain": [
       "\"l1 = [2,4,3]\\nl2 = [5,6,4]\\n\\ndef addTwoNumbers(l1, l2):\\n    n1 = int(''.join([str(i) for i in l1][::-1]))\\n    n2 = int(''.join([str(i) for i in l2][::-1]))\\n    ans = [i for i in str(n1+n2)][::-1]\\n    return ans\\n    \\n    \\n    \\naddTwoNumbers(l1, l2)\""
      ]
     },
     "execution_count": 47,
     "metadata": {},
     "output_type": "execute_result"
    }
   ],
   "source": [
    "'''l1 = [2,4,3]\n",
    "l2 = [5,6,4]\n",
    "\n",
    "def addTwoNumbers(l1, l2):\n",
    "    n1 = int(''.join([str(i) for i in l1][::-1]))\n",
    "    n2 = int(''.join([str(i) for i in l2][::-1]))\n",
    "    ans = [i for i in str(n1+n2)][::-1]\n",
    "    return ans\n",
    "    \n",
    "    \n",
    "    \n",
    "addTwoNumbers(l1, l2)'''"
   ]
  }
 ],
 "metadata": {
  "kernelspec": {
   "display_name": "Python 3",
   "language": "python",
   "name": "python3"
  },
  "language_info": {
   "codemirror_mode": {
    "name": "ipython",
    "version": 3
   },
   "file_extension": ".py",
   "mimetype": "text/x-python",
   "name": "python",
   "nbconvert_exporter": "python",
   "pygments_lexer": "ipython3",
   "version": "3.9.7"
  }
 },
 "nbformat": 4,
 "nbformat_minor": 5
}
