{
 "cells": [
  {
   "cell_type": "code",
   "execution_count": 1,
   "id": "perfect-precipitation",
   "metadata": {},
   "outputs": [],
   "source": [
    "from indra.preassembler.grounding_mapper.gilda import ground_statements\n",
    "from indra.preassembler.grounding_mapper.mapper import GroundingMapper\n",
    "from indra.statements.statements import stmts_from_json\n",
    "from indra.statements.statements import stmts_to_json\n",
    "from indra_db.client.principal import raw_statements\n",
    "from indra.tools import assemble_corpus as ac\n",
    "from collections import defaultdict\n",
    "#from indra_db.util import get_db\n",
    "from datetime import datetime\n",
    "import pickle as pk\n",
    "import pandas as pd\n",
    "import gilda\n",
    "import time\n",
    "#db = get_db('primary')"
   ]
  },
  {
   "cell_type": "code",
   "execution_count": null,
   "id": "individual-appreciation",
   "metadata": {},
   "outputs": [],
   "source": [
    "#with open('./id_list.txt', 'r') as fh:\n",
    "#    ids = [i.strip() for i in fh]"
   ]
  },
  {
   "cell_type": "code",
   "execution_count": 2,
   "id": "alleged-tampa",
   "metadata": {},
   "outputs": [],
   "source": [
    "'''\n",
    "tcid = ids\n",
    "stmts = raw_statements.get_raw_stmt_jsons(clauses=[db.TextContent.id.in_(tcid)], db=db)\n",
    "stmts_pkl = open('./raw_stmts_json.pkl', 'wb')\n",
    "pk.dump(stmts, stmts_pkl)\n",
    "stmts_json = list(stmts.values())\n",
    "stmts_list = stmts_from_json(stmts_json)\n",
    "outfh = open('./raw_stmts_list.pkl', 'wb')\n",
    "pk.dump(stmts_list, outfh)\n",
    "'''\n",
    "infh = open('./raw_stmts_list.pkl', 'rb')\n",
    "stmts_list = pk.load(infh)\n",
    "start_time = time.time()\n",
    "grounded_stmts = ac.map_grounding(stmts_list)\n",
    "end_time = time.time()\n",
    "round((end_time - start_time)/60, 2)\n",
    "'''\n",
    "INFO: [2021-10-06 11:27:28] indra.tools.assemble_corpus - Mapping grounding on 1333769 statements...\n",
    "INFO: [2021-10-06 11:35:01] indra.preassembler.grounding_mapper.mapper - 44784 statements filtered out\n",
    "7.56\n",
    "'''"
   ]
  },
  {
   "cell_type": "code",
   "execution_count": 15,
   "id": "bright-watson",
   "metadata": {},
   "outputs": [
    {
     "name": "stdout",
     "output_type": "stream",
     "text": [
      "quercetin() ('CHEBI', 'CHEBI:16243') Quercetin\n"
     ]
    }
   ],
   "source": [
    "print(grounded_stmts[0:10][3].agent_list()[0],\n",
    "      grounded_stmts[0:10][3].agent_list()[0].get_grounding(), \n",
    "      grounded_stmts[0:10][3].agent_list()[0].db_refs['TEXT']\n",
    "     )"
   ]
  },
  {
   "cell_type": "code",
   "execution_count": null,
   "id": "challenging-relevance",
   "metadata": {},
   "outputs": [],
   "source": [
    "def _check_attribute(ag):\n",
    "    # Check for db refs\n",
    "    if 'db_refs' in dir(ag):\n",
    "        if 'TEXT' in ag.db_refs.keys():\n",
    "            db_refs = True\n",
    "        else:\n",
    "            db_refs = False\n",
    "    else:\n",
    "        db_refs = False\n",
    "    \n",
    "    # Check for get_groundings\n",
    "    if 'get_grounding' in dir(ag):\n",
    "        db_grounding = True\n",
    "    else:\n",
    "        db_grounding = False\n",
    "        \n",
    "    return db_refs, db_grounding\n",
    "\n",
    "df = []\n",
    "for stmt in grounded_stmts:\n",
    "    for ag in stmt.agent_list():\n",
    "        \n",
    "        # check if attributes exists\n",
    "        db_refs, ag_grounding = _check_attribute(ag)\n",
    "        \n",
    "        if db_refs == True:\n",
    "            agent_refs = ag.db_refs['TEXT']\n",
    "        elif db_refs == False:\n",
    "            agent_refs = 'NA'\n",
    "        \n",
    "        if ag_grounding == True:\n",
    "            agent_grounding = ag.get_grounding()\n",
    "            if agent_grounding == (None, None):\n",
    "                if db_refs == True:\n",
    "                    if 'TEXT' and 'TEXT_NORM' in ag.db_refs.keys():\n",
    "                        agent_grounding = [ag.db_refs['TEXT'], ag.db_refs['TEXT_NORM']]\n",
    "                        #print(ag.db_refs['TEXT'],ag.db_refs['TEXT_NORM'], end='\\n\\n') \n",
    "        elif ag_grounding == False:\n",
    "            agent_grounding = ['NA', 'NA']\n",
    "            \n",
    "\n",
    "        df.append(\n",
    "        {\n",
    "            'Text': agent_refs,\n",
    "            'db_ns': agent_grounding[0],\n",
    "            'db_id': agent_grounding[1]\n",
    "\n",
    "        })\n",
    "grounded_df = pd.DataFrame(df)\n",
    "grounded_df.to_csv('./agent_groundings.csv', sep=',')"
   ]
  },
  {
   "cell_type": "code",
   "execution_count": 47,
   "id": "becoming-street",
   "metadata": {},
   "outputs": [
    {
     "data": {
      "text/plain": [
       "\"l1 = [2,4,3]\\nl2 = [5,6,4]\\n\\ndef addTwoNumbers(l1, l2):\\n    n1 = int(''.join([str(i) for i in l1][::-1]))\\n    n2 = int(''.join([str(i) for i in l2][::-1]))\\n    ans = [i for i in str(n1+n2)][::-1]\\n    return ans\\n    \\n    \\n    \\naddTwoNumbers(l1, l2)\""
      ]
     },
     "execution_count": 47,
     "metadata": {},
     "output_type": "execute_result"
    }
   ],
   "source": [
    "'''l1 = [2,4,3]\n",
    "l2 = [5,6,4]\n",
    "\n",
    "def addTwoNumbers(l1, l2):\n",
    "    n1 = int(''.join([str(i) for i in l1][::-1]))\n",
    "    n2 = int(''.join([str(i) for i in l2][::-1]))\n",
    "    ans = [i for i in str(n1+n2)][::-1]\n",
    "    return ans\n",
    "    \n",
    "    \n",
    "    \n",
    "addTwoNumbers(l1, l2)'''"
   ]
  }
 ],
 "metadata": {
  "kernelspec": {
   "display_name": "Python 3",
   "language": "python",
   "name": "python3"
  },
  "language_info": {
   "codemirror_mode": {
    "name": "ipython",
    "version": 3
   },
   "file_extension": ".py",
   "mimetype": "text/x-python",
   "name": "python",
   "nbconvert_exporter": "python",
   "pygments_lexer": "ipython3",
   "version": "3.8.5"
  }
 },
 "nbformat": 4,
 "nbformat_minor": 5
}
